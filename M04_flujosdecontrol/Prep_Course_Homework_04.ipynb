{
 "cells": [
  {
   "attachments": {},
   "cell_type": "markdown",
   "metadata": {},
   "source": [
    "## Flujos de Control"
   ]
  },
  {
   "attachments": {},
   "cell_type": "markdown",
   "metadata": {},
   "source": [
    "1) Crear una variable que contenga un elemento del conjunto de números enteros y luego imprimir por pantalla si es mayor o menor a cero"
   ]
  },
  {
   "cell_type": "code",
   "execution_count": 4,
   "metadata": {},
   "outputs": [
    {
     "name": "stdout",
     "output_type": "stream",
     "text": [
      "Es mayor que cero\n"
     ]
    }
   ],
   "source": [
    "var1 = 5\n",
    "if var1<0:\n",
    "    print(\"Es menor que cero\")\n",
    "else:\n",
    "    print(\"Es mayor que cero\")    "
   ]
  },
  {
   "attachments": {},
   "cell_type": "markdown",
   "metadata": {},
   "source": [
    "2) Crear dos variables y un condicional que informe si son del mismo tipo de dato"
   ]
  },
  {
   "cell_type": "code",
   "execution_count": 5,
   "metadata": {},
   "outputs": [
    {
     "name": "stdout",
     "output_type": "stream",
     "text": [
      "Son datos de distinto tipo\n"
     ]
    }
   ],
   "source": [
    "var2 = 5\n",
    "var3 = \"Hola mundo\"\n",
    "\n",
    "if type(var2) == type(var3):\n",
    "    print(\"Son datos del mismo tipo\")\n",
    "else:\n",
    "    print(\"Son datos de distinto tipo\")    "
   ]
  },
  {
   "attachments": {},
   "cell_type": "markdown",
   "metadata": {},
   "source": [
    "3) Para los valores enteros del 1 al 20, imprimir por pantalla si es par o impar"
   ]
  },
  {
   "cell_type": "code",
   "execution_count": 21,
   "metadata": {},
   "outputs": [
    {
     "name": "stdout",
     "output_type": "stream",
     "text": [
      "1  es impar\n",
      "2  es par\n",
      "3  es impar\n",
      "4  es par\n",
      "5  es impar\n",
      "6  es par\n",
      "7  es impar\n",
      "8  es par\n",
      "9  es impar\n",
      "10  es par\n",
      "11  es impar\n",
      "12  es par\n",
      "13  es impar\n",
      "14  es par\n",
      "15  es impar\n",
      "16  es par\n",
      "17  es impar\n",
      "18  es par\n",
      "19  es impar\n",
      "20  es par\n"
     ]
    }
   ],
   "source": [
    "for num in range(1, 21):\n",
    "    if num % 2 == 0:\n",
    "        print(num, \" es par\")\n",
    "    else:\n",
    "        print(num, \" es impar\")    "
   ]
  },
  {
   "attachments": {},
   "cell_type": "markdown",
   "metadata": {},
   "source": [
    "4) En un ciclo for mostrar para los valores entre 0 y 5 el resultado de elevarlo a la potencia igual a 3"
   ]
  },
  {
   "cell_type": "code",
   "execution_count": 24,
   "metadata": {},
   "outputs": [
    {
     "name": "stdout",
     "output_type": "stream",
     "text": [
      "El resultado de elevar 1 a la tercer potencia es igual a 1\n",
      "El resultado de elevar 2 a la tercer potencia es igual a 8\n",
      "El resultado de elevar 3 a la tercer potencia es igual a 27\n",
      "El resultado de elevar 4 a la tercer potencia es igual a 64\n",
      "El resultado de elevar 5 a la tercer potencia es igual a 125\n"
     ]
    }
   ],
   "source": [
    "for num2 in range(1, 6):\n",
    "    print(\"El resultado de elevar\", num2,\"a la tercer potencia es igual a\", num2**3)"
   ]
  },
  {
   "attachments": {},
   "cell_type": "markdown",
   "metadata": {},
   "source": [
    "5) Crear una variable que contenga un número entero y realizar un ciclo for la misma cantidad de ciclos"
   ]
  },
  {
   "cell_type": "code",
   "execution_count": 25,
   "metadata": {},
   "outputs": [
    {
     "name": "stdout",
     "output_type": "stream",
     "text": [
      "5\n"
     ]
    }
   ],
   "source": [
    "var4 = 5\n",
    "for n in (0, var4):\n",
    "    pass\n",
    "print(n)"
   ]
  },
  {
   "attachments": {},
   "cell_type": "markdown",
   "metadata": {},
   "source": [
    "6) Utilizar un ciclo while para realizar el factorial de un número guardado en una variable, sólo si la variable contiene un número entero mayor a 0"
   ]
  },
  {
   "cell_type": "code",
   "execution_count": 3,
   "metadata": {},
   "outputs": [
    {
     "name": "stdout",
     "output_type": "stream",
     "text": [
      "El factorial es 120\n"
     ]
    }
   ],
   "source": [
    "var5 = 5\n",
    "\n",
    "if (type(var5) == int ):\n",
    "    if var5 > 0:\n",
    "        factorial = var5\n",
    "        while (var5 > 1):\n",
    "            var5 = var5 - 1\n",
    "            factorial = factorial * var5\n",
    "        print(\"El factorial es\", factorial)\n",
    "    else:\n",
    "        print(\"El numero es menor que cero\")\n",
    "else:\n",
    "    print(\"No es un numero\")        "
   ]
  },
  {
   "attachments": {},
   "cell_type": "markdown",
   "metadata": {},
   "source": [
    "7) Crear un ciclo for dentro de un ciclo while"
   ]
  },
  {
   "cell_type": "code",
   "execution_count": 3,
   "metadata": {},
   "outputs": [
    {
     "name": "stdout",
     "output_type": "stream",
     "text": [
      "El numero del for es 1\n",
      "El numero del for es 2\n",
      "El numero del for es 3\n",
      "El numero del for es 4\n",
      "El numero del for es 5\n",
      "El numero del for es 6\n",
      "El numero del for es 7\n",
      "El numero del for es 8\n",
      "El numero del for es 9\n"
     ]
    }
   ],
   "source": [
    "var6 = 10\n",
    "for i in range(1, var6):\n",
    "    print(\"El numero del for es\", i)\n",
    "\n",
    "    var7 = 5\n",
    "    while var7 < 10:\n",
    "        print(\"El numero del ciclo while es\", var7)\n",
    "        var7 -= 1"
   ]
  },
  {
   "attachments": {},
   "cell_type": "markdown",
   "metadata": {},
   "source": [
    "8) Crear un ciclo while dentro de un ciclo for"
   ]
  },
  {
   "cell_type": "code",
   "execution_count": 3,
   "metadata": {},
   "outputs": [
    {
     "name": "stdout",
     "output_type": "stream",
     "text": [
      "El numero del for es 1\n",
      "El numero del while es 1\n",
      "El numero del while es 2\n",
      "El numero del while es 3\n",
      "El numero del while es 4\n",
      "El numero del while es 5\n",
      "El numero del for es 2\n",
      "El numero del while es 1\n",
      "El numero del while es 2\n",
      "El numero del while es 3\n",
      "El numero del while es 4\n",
      "El numero del while es 5\n",
      "El numero del for es 3\n",
      "El numero del while es 1\n",
      "El numero del while es 2\n",
      "El numero del while es 3\n",
      "El numero del while es 4\n",
      "El numero del while es 5\n"
     ]
    }
   ],
   "source": [
    "var6 = 3\n",
    "\n",
    "for i in range(1, var6+1):\n",
    "    print(\"El numero del for es\", i)\n",
    "\n",
    "    var7 = 1\n",
    "    while var7 <= 5:\n",
    "        print(\"El numero del while es\", var7)\n",
    "        var7 += 1 "
   ]
  },
  {
   "attachments": {},
   "cell_type": "markdown",
   "metadata": {},
   "source": [
    "9) Imprimir los números primos existentes entre 0 y 30"
   ]
  },
  {
   "cell_type": "code",
   "execution_count": 4,
   "metadata": {},
   "outputs": [
    {
     "name": "stdout",
     "output_type": "stream",
     "text": [
      "0\n",
      "1\n",
      "2\n",
      "3\n",
      "5\n",
      "7\n",
      "11\n",
      "13\n",
      "17\n",
      "19\n",
      "23\n",
      "29\n"
     ]
    }
   ],
   "source": [
    "tope_rango = 30\n",
    "n = 0\n",
    "\n",
    "while n < tope_rango:\n",
    "    primo = True  # Restablecer primo a True en cada iteración\n",
    "    for div in range(2, n):\n",
    "        if n % div == 0:\n",
    "            primo = False\n",
    "    if primo:\n",
    "        print(n)\n",
    "    n += 1"
   ]
  },
  {
   "attachments": {},
   "cell_type": "markdown",
   "metadata": {},
   "source": [
    "10) ¿Se puede mejorar el proceso del punto 9? Utilizar las sentencias break y/ó continue para tal fin"
   ]
  },
  {
   "cell_type": "code",
   "execution_count": 1,
   "metadata": {},
   "outputs": [
    {
     "name": "stdout",
     "output_type": "stream",
     "text": [
      "0\n",
      "1\n",
      "2\n",
      "3\n",
      "5\n",
      "7\n",
      "11\n",
      "13\n",
      "17\n",
      "19\n",
      "23\n",
      "29\n"
     ]
    }
   ],
   "source": [
    "tope_rango = 30\n",
    "n = 0\n",
    "\n",
    "while n < tope_rango:\n",
    "    primo = True  # Restablecer primo a True en cada iteración\n",
    "    for div in range(2, n):\n",
    "        if n % div == 0:\n",
    "            primo = False\n",
    "            break\n",
    "    if primo:\n",
    "        print(n)\n",
    "    n += 1"
   ]
  },
  {
   "attachments": {},
   "cell_type": "markdown",
   "metadata": {},
   "source": [
    "11) En los puntos 9 y 10, se diseño un código que encuentra números primos y además se lo optimizó. ¿Es posible saber en qué medida se optimizó?"
   ]
  },
  {
   "cell_type": "code",
   "execution_count": 4,
   "metadata": {},
   "outputs": [
    {
     "name": "stdout",
     "output_type": "stream",
     "text": [
      "0\n",
      "1\n",
      "2\n",
      "3\n",
      "5\n",
      "7\n",
      "11\n",
      "13\n",
      "17\n",
      "19\n",
      "23\n",
      "29\n",
      "Cantidad de ciclos sin break  378\n"
     ]
    }
   ],
   "source": [
    "\n",
    "tope_rango = 30\n",
    "n = 0\n",
    "ciclos_sin_break = 0\n",
    "while n < tope_rango:\n",
    "    primo = True  # Restablecer primo a True en cada iteración\n",
    "    for div in range(2, n):\n",
    "        ciclos_sin_break += 1\n",
    "        if n % div == 0:\n",
    "            primo = False\n",
    "    if primo:\n",
    "        print(n)\n",
    "    n += 1\n",
    "\n",
    "print(\"Cantidad de ciclos sin break \", ciclos_sin_break)\n"
   ]
  },
  {
   "cell_type": "code",
   "execution_count": 3,
   "metadata": {},
   "outputs": [
    {
     "name": "stdout",
     "output_type": "stream",
     "text": [
      "0\n",
      "1\n",
      "2\n",
      "3\n",
      "5\n",
      "7\n",
      "11\n",
      "13\n",
      "17\n",
      "19\n",
      "23\n",
      "29\n",
      "Cantidad de ciclos con break 134\n"
     ]
    }
   ],
   "source": [
    "tope_rango = 30\n",
    "n = 0\n",
    "ciclos_con_break = 0\n",
    "while n < tope_rango:\n",
    "    primo = True  # Restablecer primo a True en cada iteración\n",
    "    for div in range(2, n):\n",
    "        ciclos_con_break += 1\n",
    "        if n % div == 0:\n",
    "            primo = False\n",
    "            break\n",
    "    if primo:\n",
    "        print(n)\n",
    "    n += 1\n",
    "\n",
    "print(\"Cantidad de ciclos con break\", ciclos_con_break)  "
   ]
  },
  {
   "attachments": {},
   "cell_type": "markdown",
   "metadata": {},
   "source": [
    "12) Aplicando continue, armar un ciclo while que solo imprima los valores divisibles por 12, dentro del rango de números de 100 a 300"
   ]
  },
  {
   "cell_type": "code",
   "execution_count": 18,
   "metadata": {},
   "outputs": [
    {
     "name": "stdout",
     "output_type": "stream",
     "text": [
      "108\n",
      "120\n",
      "132\n",
      "144\n",
      "156\n",
      "168\n",
      "180\n",
      "192\n",
      "204\n",
      "216\n",
      "228\n",
      "240\n",
      "252\n",
      "264\n",
      "276\n",
      "288\n",
      "300\n"
     ]
    }
   ],
   "source": [
    "maximo = 301\n",
    "n = 100\n",
    "\n",
    "while ( n < maximo):\n",
    "    if n % 12 != 0:\n",
    "        n += 1\n",
    "        continue\n",
    "    print(n)\n",
    "    n += 1    \n",
    "  \n"
   ]
  },
  {
   "attachments": {},
   "cell_type": "markdown",
   "metadata": {},
   "source": [
    "13) Utilizar la función **input()** que permite hacer ingresos por teclado, para encontrar números primos y dar la opción al usario de buscar el siguiente"
   ]
  },
  {
   "cell_type": "code",
   "execution_count": 2,
   "metadata": {},
   "outputs": [
    {
     "name": "stdout",
     "output_type": "stream",
     "text": [
      "1\n",
      "¿Desea encontrar el siguiente número primo?\n",
      "2\n",
      "¿Desea encontrar el siguiente número primo?\n",
      "3\n",
      "¿Desea encontrar el siguiente número primo?\n",
      "5\n",
      "¿Desea encontrar el siguiente número primo?\n",
      "7\n",
      "¿Desea encontrar el siguiente número primo?\n"
     ]
    }
   ],
   "source": [
    "n = 1\n",
    "sigue = 30\n",
    "primo = True\n",
    "while (n < sigue):\n",
    "    for div in range(2, n):\n",
    "        if (n % div == 0):\n",
    "            primo = False\n",
    "            break\n",
    "    if (primo):\n",
    "        print(n)\n",
    "        print('¿Desea encontrar el siguiente número primo?')\n",
    "        if (input() != '1'):\n",
    "            print('Se finaliza el proceso')\n",
    "            break\n",
    "    else:\n",
    "        primo = True\n",
    "    n += 1\n"
   ]
  },
  {
   "attachments": {},
   "cell_type": "markdown",
   "metadata": {},
   "source": [
    "14) Crear un ciclo while que encuentre dentro del rango de 100 a 300 el primer número divisible por 3 y además múltiplo de 6"
   ]
  },
  {
   "cell_type": "code",
   "execution_count": 3,
   "metadata": {},
   "outputs": [
    {
     "name": "stdout",
     "output_type": "stream",
     "text": [
      "612\n"
     ]
    }
   ],
   "source": [
    "n = 100\n",
    "\n",
    "while n <= 300:\n",
    "    if n % 3 == 0:\n",
    "        print(n*6)\n",
    "        break\n",
    "    n+=1    "
   ]
  }
 ],
 "metadata": {
  "interpreter": {
   "hash": "c85384e4cb51c8b72350f3a8712cc8351fdc3955e32a27f9b60c6242ab125f01"
  },
  "kernelspec": {
   "display_name": "Python 3 (ipykernel)",
   "language": "python",
   "name": "python3"
  },
  "language_info": {
   "codemirror_mode": {
    "name": "ipython",
    "version": 3
   },
   "file_extension": ".py",
   "mimetype": "text/x-python",
   "name": "python",
   "nbconvert_exporter": "python",
   "pygments_lexer": "ipython3",
   "version": "3.11.6"
  }
 },
 "nbformat": 4,
 "nbformat_minor": 4
}
